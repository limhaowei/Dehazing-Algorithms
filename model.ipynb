{
 "cells": [
  {
   "cell_type": "markdown",
   "metadata": {},
   "source": [
    "Importing all necessary packages"
   ]
  },
  {
   "cell_type": "code",
   "execution_count": null,
   "metadata": {},
   "outputs": [],
   "source": [
    "import torch\n",
    "import torch.nn as nn\n",
    "import torch.optim as optim\n",
    "from torch.utils.data import Dataset, DataLoader\n",
    "import torchvision.transforms as transforms\n",
    "import numpy as np\n",
    "import matplotlib.pyplot as plt\n",
    "import os"
   ]
  },
  {
   "cell_type": "markdown",
   "metadata": {},
   "source": [
    "Model Architecture"
   ]
  },
  {
   "cell_type": "code",
   "execution_count": null,
   "metadata": {},
   "outputs": [],
   "source": [
    "class AODNet(nn.Module):\n",
    "    def __init__(self):\n",
    "        super(AODNet, self).__init__()\n",
    "        self.conv1 = nn.Conv2d(3, 3, kernel_size=1, bias=True)\n",
    "        self.conv2 = nn.Conv2d(3, 3, kernel_size=3, padding=1, bias=True)\n",
    "        self.conv3 = nn.Conv2d(3, 3, kernel_size=5, padding=2, bias=True)\n",
    "        self.conv4 = nn.Conv2d(3, 3, kernel_size=3, padding=1, bias=True)\n",
    "        self.conv5 = nn.Conv2d(3, 3, kernel_size=1, bias=True)\n",
    "        \n",
    "        self.b = 1\n",
    "        \n",
    "    def forward(self, x):\n",
    "        x1 = self.conv1(x)\n",
    "        x2 = self.conv2(x1)\n",
    "        cat1 = torch.cat((x1, x2), 1)\n",
    "        x3 = self.conv3(cat1)\n",
    "        cat2 = torch.cat((x2, x3), 1)\n",
    "        x4 = self.conv4(cat2)\n",
    "        cat3 = torch.cat((x1, x2, x3, x4), 1)\n",
    "        k = self.conv5(cat3)\n",
    "\n",
    "        if k.size() != x.size():\n",
    "            raise Exception(\"k, haze image are different size!\")\n",
    "\n",
    "        output = k * x - k + self.b\n",
    "        return torch.clamp(output, 0, 1)"
   ]
  },
  {
   "cell_type": "markdown",
   "metadata": {},
   "source": [
    "Setting up dataset"
   ]
  },
  {
   "cell_type": "code",
   "execution_count": null,
   "metadata": {},
   "outputs": [],
   "source": [
    "class DehazeDataset(Dataset):\n",
    "    def __init__(self, hazy_dir, clear_dir, transform=None):\n",
    "        self.hazy_dir = hazy_dir\n",
    "        self.clear_dir = clear_dir\n",
    "        self.transform = transform\n",
    "        self.image_names = os.listdir(hazy_dir)\n",
    "\n",
    "    def __len__(self):\n",
    "        return len(self.image_names)\n",
    "\n",
    "    def __getitem__(self, idx):\n",
    "        hazy_path = os.path.join(self.hazy_dir, self.image_names[idx])\n",
    "        clear_path = os.path.join(self.clear_dir, self.image_names[idx])\n",
    "\n",
    "        hazy_image = Image.open(hazy_path).convert('RGB')\n",
    "        clear_image = Image.open(clear_path).convert('RGB')\n",
    "\n",
    "        if self.transform:\n",
    "            hazy_image = self.transform(hazy_image)\n",
    "            clear_image = self.transform(clear_image)\n",
    "\n",
    "        return hazy_image, clear_image"
   ]
  },
  {
   "cell_type": "code",
   "execution_count": null,
   "metadata": {},
   "outputs": [],
   "source": [
    "# Define transforms\n",
    "transform = transforms.Compose([\n",
    "    transforms.Resize((256, 256)),\n",
    "    transforms.ToTensor(),\n",
    "])\n",
    "\n",
    "# Create dataset (needs change)\n",
    "dataset = DehazeDataset('path/to/hazy/images', 'path/to/clear/images', transform=transform)\n",
    "\n",
    "# Create DataLoader\n",
    "dataloader = DataLoader(dataset, batch_size=4, shuffle=True, num_workers=2)"
   ]
  },
  {
   "cell_type": "markdown",
   "metadata": {},
   "source": [
    "Training loop"
   ]
  },
  {
   "cell_type": "code",
   "execution_count": null,
   "metadata": {},
   "outputs": [],
   "source": [
    "device = torch.device(\"cuda\" if torch.cuda.is_available() else \"cpu\")\n",
    "model = AODNet().to(device)\n",
    "criterion = nn.MSELoss()\n",
    "optimizer = optim.Adam(model.parameters(), lr=0.001)\n",
    "\n",
    "def train_model(model, dataloader, criterion, optimizer, num_epochs=25):\n",
    "    for epoch in range(num_epochs):\n",
    "        model.train()\n",
    "        running_loss = 0.0\n",
    "\n",
    "        for hazy_inputs, clear_targets in dataloader:\n",
    "            hazy_inputs = hazy_inputs.to(device)\n",
    "            clear_targets = clear_targets.to(device)\n",
    "\n",
    "            optimizer.zero_grad()\n",
    "            outputs = model(hazy_inputs)\n",
    "            loss = criterion(outputs, clear_targets)\n",
    "            loss.backward()\n",
    "            optimizer.step()\n",
    "\n",
    "            running_loss += loss.item() * hazy_inputs.size(0)\n",
    "\n",
    "        epoch_loss = running_loss / len(dataloader.dataset)\n",
    "        print(f'Epoch {epoch+1}/{num_epochs}, Loss: {epoch_loss:.4f}')\n",
    "\n",
    "        # Save model every 5 epochs\n",
    "        if (epoch + 1) % 5 == 0:\n",
    "            torch.save(model.state_dict(), f'aodnet_epoch_{epoch+1}.pth')\n",
    "\n",
    "    print('Training complete')\n",
    "    return model"
   ]
  },
  {
   "cell_type": "code",
   "execution_count": null,
   "metadata": {},
   "outputs": [],
   "source": [
    "trained_model = train_model(model, dataloader, criterion, optimizer, num_epochs=25)"
   ]
  },
  {
   "cell_type": "code",
   "execution_count": null,
   "metadata": {},
   "outputs": [],
   "source": [
    "torch.save(trained_model.state_dict(), 'aodnet_final.pth')\n"
   ]
  },
  {
   "cell_type": "markdown",
   "metadata": {},
   "source": [
    "Dehaze the image "
   ]
  },
  {
   "cell_type": "code",
   "execution_count": null,
   "metadata": {},
   "outputs": [],
   "source": [
    "def dehaze_image(model, image_path):\n",
    "    model.eval()\n",
    "    transform = transforms.Compose([\n",
    "        transforms.Resize((256, 256)),\n",
    "        transforms.ToTensor(),\n",
    "    ])\n",
    "    \n",
    "    with torch.no_grad():\n",
    "        hazy_image = Image.open(image_path).convert('RGB')\n",
    "        hazy_tensor = transform(hazy_image).unsqueeze(0).to(device)\n",
    "        dehazed_tensor = model(hazy_tensor)\n",
    "    \n",
    "    # Convert tensor to image\n",
    "    dehazed_image = transforms.ToPILImage()(dehazed_tensor.squeeze().cpu())\n",
    "    \n",
    "    # Display images\n",
    "    fig, (ax1, ax2) = plt.subplots(1, 2, figsize=(10, 5))\n",
    "    ax1.imshow(hazy_image)\n",
    "    ax1.set_title('Hazy Image')\n",
    "    ax1.axis('off')\n",
    "    ax2.imshow(dehazed_image)\n",
    "    ax2.set_title('Dehazed Image')\n",
    "    ax2.axis('off')\n",
    "    plt.show()"
   ]
  },
  {
   "cell_type": "markdown",
   "metadata": {},
   "source": [
    "Dehaze"
   ]
  },
  {
   "cell_type": "code",
   "execution_count": null,
   "metadata": {},
   "outputs": [],
   "source": [
    "# Load the trained model\n",
    "model.load_state_dict(torch.load('aodnet_final.pth'))\n",
    "\n",
    "# Dehaze an image (replace with your image path)\n",
    "dehaze_image(model, 'path/to/test/hazy_image.jpg')"
   ]
  }
 ],
 "metadata": {
  "kernelspec": {
   "display_name": "env",
   "language": "python",
   "name": "python3"
  },
  "language_info": {
   "codemirror_mode": {
    "name": "ipython",
    "version": 3
   },
   "file_extension": ".py",
   "mimetype": "text/x-python",
   "name": "python",
   "nbconvert_exporter": "python",
   "pygments_lexer": "ipython3",
   "version": "3.10.6"
  }
 },
 "nbformat": 4,
 "nbformat_minor": 2
}
